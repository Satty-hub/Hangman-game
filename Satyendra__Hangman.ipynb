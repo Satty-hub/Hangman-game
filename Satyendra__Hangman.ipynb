{
  "cells": [
    {
      "cell_type": "markdown",
      "metadata": {
        "id": "view-in-github",
        "colab_type": "text"
      },
      "source": [
        "<a href=\"https://colab.research.google.com/github/Satty-hub/Hangman-game/blob/main/Satyendra__Hangman.ipynb\" target=\"_parent\"><img src=\"https://colab.research.google.com/assets/colab-badge.svg\" alt=\"Open In Colab\"/></a>"
      ]
    },
    {
      "cell_type": "markdown",
      "id": "649cee80-bfe9-4cf7-955b-560a475b94d7",
      "metadata": {
        "id": "649cee80-bfe9-4cf7-955b-560a475b94d7"
      },
      "source": [
        "# Hangman game"
      ]
    },
    {
      "cell_type": "markdown",
      "id": "451fb977-2ab3-4c26-b7d6-dee486eef375",
      "metadata": {
        "id": "451fb977-2ab3-4c26-b7d6-dee486eef375"
      },
      "source": [
        "Hangman is a guessing game where the player tries to guess a hidden word by suggesting letters.\n",
        "\n",
        "To start, the player is given a word where all letters are replaced with underscores (`_`) so the only information available is the number of letters in the answer.\n",
        "\n",
        "Each round the player guesses a letter and if the letter guesed is in the answer, its position (or positions) in the word is revealed. Once they successfully fill in the hidden word with its correct letters, the player wins!\n",
        "\n",
        "If the letter guessed is not in the answer, the player accumulates mistakes. If they make it to six mistakes without finding the answer, the player loses!"
      ]
    },
    {
      "cell_type": "markdown",
      "id": "ba3d2b29-e8f8-43fd-91c4-ab89fb4a611b",
      "metadata": {
        "id": "ba3d2b29-e8f8-43fd-91c4-ab89fb4a611b"
      },
      "source": [
        "The name of the game comes from a drawing of a hanged stick figure. After each mistake, a new element of the hanged figure is drawn.\n",
        "\n",
        "If the player doesn't guess the word before the last element of the figure is drawn, the player is hanged!"
      ]
    },
    {
      "cell_type": "markdown",
      "source": [
        "###Your task today is to use python to create a version of this game that you can play inside this python notebook. You may challenge yourself to build it on your own, or you can follow the step by step instructions below."
      ],
      "metadata": {
        "id": "5pmu96pEgEW9"
      },
      "id": "5pmu96pEgEW9"
    },
    {
      "cell_type": "markdown",
      "id": "1d2579aa-e600-4e7a-ba90-93e628749ce0",
      "metadata": {
        "tags": [],
        "id": "1d2579aa-e600-4e7a-ba90-93e628749ce0"
      },
      "source": [
        "###Here you can see a simulation of what a few rounds of the game should look like:\n",
        "\n",
        "The hidden word is: _ _ _ _ _ _<br>\n",
        "\n",
        "Pick a letter: <br>\n",
        "  E <br>\n",
        "Correct! There is a letter E in the secret word! <br>\n",
        "\n",
        "==============================================================\n",
        "\n",
        "The hidden word is: _ E _ _ E _<br>\n",
        "Pick a letter: <br>\n",
        " V <br>\n",
        "WRONG! Number of mistakes left: 5\n",
        "\n",
        "        ____________\n",
        "         |\n",
        "         O\n",
        "\n",
        "\n",
        "==============================================================\n",
        "\n",
        "The hidden word is: _ E _ _ E _ <br>\n",
        "Pick a letter: <br>\n",
        " L <br>\n",
        "\n",
        "WRONG! Number of mistakes left: 4\n",
        "\n",
        "        ____________\n",
        "         |\n",
        "         O\n",
        "        /    \n",
        "\n",
        "==============================================================\n",
        "\n",
        "The hidden word is: _ E _ _ E _ <br>\n",
        "Pick a letter: <br>\n",
        "..."
      ]
    },
    {
      "cell_type": "markdown",
      "id": "94acc394-2211-4f74-bb29-ec5cea076fa4",
      "metadata": {
        "id": "94acc394-2211-4f74-bb29-ec5cea076fa4"
      },
      "source": [
        "## Challenge yourself to create the hangman game on your own using what you have learned so far"
      ]
    },
    {
      "cell_type": "code",
      "execution_count": null,
      "id": "0fc7d9fd-0ba4-474f-8ae6-a7fd4b399b8e",
      "metadata": {
        "id": "0fc7d9fd-0ba4-474f-8ae6-a7fd4b399b8e",
        "colab": {
          "base_uri": "https://localhost:8080/"
        },
        "outputId": "5c5c6c71-cc4c-4a0a-d7a1-159210bf5228"
      },
      "outputs": [
        {
          "output_type": "stream",
          "name": "stdout",
          "text": [
            "____\n"
          ]
        }
      ],
      "source": [
        "answer_word = \"satty\".upper()\n",
        "hidden_word = (\"_\" * len(answer_word))[:-1 ]\n",
        "print(hidden_word)\n",
        "remaining_mistakes = 6\n",
        "\n"
      ]
    },
    {
      "cell_type": "code",
      "source": [
        "picked_letters = input (\"please tell me your word\")\n"
      ],
      "metadata": {
        "id": "N2SWbrvxMjDi"
      },
      "id": "N2SWbrvxMjDi",
      "execution_count": null,
      "outputs": []
    },
    {
      "cell_type": "code",
      "source": [],
      "metadata": {
        "colab": {
          "base_uri": "https://localhost:8080/"
        },
        "id": "JWQ_WW8VxWqe",
        "outputId": "b3d43648-d761-4a47-8f0f-362371634bd8"
      },
      "id": "JWQ_WW8VxWqe",
      "execution_count": null,
      "outputs": [
        {
          "output_type": "stream",
          "name": "stdout",
          "text": [
            "_____\n"
          ]
        }
      ]
    },
    {
      "cell_type": "markdown",
      "id": "a2fd839d-c31d-4c2a-af33-6f7551effcc9",
      "metadata": {
        "id": "a2fd839d-c31d-4c2a-af33-6f7551effcc9"
      },
      "source": [
        "## Step-by-step solution"
      ]
    },
    {
      "cell_type": "markdown",
      "source": [
        "Try to complete the steps by yourself first. If you are struggling, you can open the \"Hints\" dropdown for each step. If these hints are not enough, you can reach out to your Junior Instructor for help. Refrain from opening the solution dropdown other than to compare it to your own. If you do look at the solution, examine it, understand it, and then hide it again and try to recreate it with what you've learned."
      ],
      "metadata": {
        "id": "sxIJmA1CAcVA"
      },
      "id": "sxIJmA1CAcVA"
    },
    {
      "cell_type": "markdown",
      "id": "4340fe5b-c87a-419d-a0c1-8fdf44377308",
      "metadata": {
        "id": "4340fe5b-c87a-419d-a0c1-8fdf44377308"
      },
      "source": [
        "### **Step 1**"
      ]
    },
    {
      "cell_type": "markdown",
      "id": "ed05cb0b-111d-4093-b9de-78abd9b3ca8d",
      "metadata": {
        "id": "ed05cb0b-111d-4093-b9de-78abd9b3ca8d"
      },
      "source": [
        "#### First we want to create a way for the user to input a letter and have it checked against the answer word.\n",
        "1. Create a variable called `answer_word` and assign it the value of a single word string in all capitals.<br><br>\n",
        "2. Create a variable called `hidden_word` that has an underscore `_` for each letter in the `answer_word`, and a space seperating it from the next underscore to make the number of letters easier to see (`'_ _ _ _'` rather than `'____'`).<br><br>\n",
        "3. `Print` the `hidden_word` in a statement like `'Hidden word is: {hidden_word}`.'<br><br>\n",
        "4. Create a variable called `picked_letter` that will take an `input()` from the user.<br><br>\n",
        "5. Create a single if/else statement that will check if the `picked_letter` is in the `answer_word`. (Keep in mind case sensitivity: `'E'` and `'e'` are not the same).<br><br>\n",
        "6. Inside the if/else statement, `print` the outcome `'CORRECT! The word contains the letter {picked_letter}!'` if the condition is True. <br><br>\n",
        "7. Print the outcome `'WRONG!'` if the condition is False."
      ]
    },
    {
      "cell_type": "code",
      "execution_count": null,
      "id": "35e91f75-162e-4da8-8059-076d03280e77",
      "metadata": {
        "id": "35e91f75-162e-4da8-8059-076d03280e77",
        "colab": {
          "base_uri": "https://localhost:8080/"
        },
        "outputId": "367ade12-61e9-434e-d470-4e24a13bb875"
      },
      "outputs": [
        {
          "output_type": "stream",
          "name": "stdout",
          "text": [
            "Hidden word is: _ _ _ _ _\n",
            "Please pick a letter: t\n",
            "CORRECT! The word contains the letter T\n"
          ]
        }
      ],
      "source": [
        "### Game initialisation\n",
        "answer_word = \"Satty\".upper() # \"SATTY\"\n",
        "hidden_word = (\"_ \" * len(answer_word))[:-1] # [:-1] to remove the last trailing whitespace\n",
        "print(f\"Hidden word is: {hidden_word}\")\n",
        "\n",
        "### While Playing the game\n",
        "# Ask for a letter\n",
        "\n",
        "picked_letter = input(\"Please pick a letter: \").upper()\n",
        "\n",
        "# Once you choose a letter then check if picked letter is in answer_word\n",
        "\n",
        "if picked_letter in answer_word:\n",
        "  print(f\"CORRECT! The word contains the letter {picked_letter}\")\n",
        "else:\n",
        "  print(\"WRONG!\")\n"
      ]
    },
    {
      "cell_type": "code",
      "source": [],
      "metadata": {
        "id": "N56qxZawQvnH"
      },
      "id": "N56qxZawQvnH",
      "execution_count": null,
      "outputs": []
    },
    {
      "cell_type": "markdown",
      "source": [
        "#### Hints for Step 1"
      ],
      "metadata": {
        "id": "oUCzAUt_o0l4"
      },
      "id": "oUCzAUt_o0l4"
    },
    {
      "cell_type": "markdown",
      "source": [
        "##### Hints for Step 1.2"
      ],
      "metadata": {
        "id": "NvDyEAQ6p7LO"
      },
      "id": "NvDyEAQ6p7LO"
    },
    {
      "cell_type": "markdown",
      "source": [
        "You can multiply a string to get a longer string with the original repeated (eg. `'ab' * 5` = `'ababababab'`). <br> <br> You can use `len('example string')` to get the length of a string"
      ],
      "metadata": {
        "id": "GDU86rdvo4ON"
      },
      "id": "GDU86rdvo4ON"
    },
    {
      "cell_type": "markdown",
      "source": [
        "##### Hint for Step 1.3"
      ],
      "metadata": {
        "id": "nqNSOvmqqJXS"
      },
      "id": "nqNSOvmqqJXS"
    },
    {
      "cell_type": "markdown",
      "source": [
        "You can use f-strings to insert variables into strings. For example, if `a=10` then `print(f'I have {a} apples')` prints `I have 10 apples`"
      ],
      "metadata": {
        "id": "LuhksmKgqRHF"
      },
      "id": "LuhksmKgqRHF"
    },
    {
      "cell_type": "markdown",
      "source": [
        "##### Hints for Step 1.5"
      ],
      "metadata": {
        "id": "KxxQjHbCqwGN"
      },
      "id": "KxxQjHbCqwGN"
    },
    {
      "cell_type": "markdown",
      "source": [
        "You can use `.upper()` to convert a string to all capital letters. <br><br>\n",
        "You can use `in` in an if statement to check if a string is present in another string."
      ],
      "metadata": {
        "id": "Vg1rmRb0rBOK"
      },
      "id": "Vg1rmRb0rBOK"
    },
    {
      "cell_type": "markdown",
      "id": "a09706f8-26dd-4bcc-bf71-dbccbdc986c4",
      "metadata": {
        "tags": [],
        "id": "a09706f8-26dd-4bcc-bf71-dbccbdc986c4"
      },
      "source": [
        "###**Step 2**"
      ]
    },
    {
      "cell_type": "markdown",
      "id": "1ea2d189-3777-4300-bf17-fc95cd2588d3",
      "metadata": {
        "id": "1ea2d189-3777-4300-bf17-fc95cd2588d3"
      },
      "source": [
        "#### Next we want to create a loop so that the player can continue guessing until the game is over.\n",
        "\n",
        "1. Copy and paste your code from step 1 that defines an `answer_word` and creates a `hidden_word`.<br><br>\n",
        "2. Create a variable called `remaining_mistakes` and set its value to 6. <br><br>\n",
        "2. Create a while loop that will loop as long as `remaining_mistakes` is greater than 0. <br><br>\n",
        "3. Place your code from step 1 that takes an `input` from the player inside the while loop so that each iteration of the loop will ask for a new guess from the player. <br><br>\n",
        "4. Place the if/else statement from step 1 inside the while loop. <br><br>\n",
        "5. Every time the player makes a mistake (guesses a letter that is not in the `answer_word`), decrease the `remaining_mistakes` by one.<br><br>\n",
        "6. Change the `'WRONG'` printout to: `'WRONG! Number of mistakes left: {remaining_mistakes}`'.<br><br>\n",
        "7. Inside the loop, before taking an `input` from the player, copy and paste your code from step 1 that prints the `hidden_word` . Add code that will also `print` the text `'Pick a letter:'`. (The hidden word won't update yet so it will just print underscores every time. We will fix this in step 3). <br><br>\n",
        "8. After and outside of the while loop, create an if statement that asks if the `remaining_mistakes` is equal to 0, and if the condition is `True` `print` `'HANGED!!'` as this will happen when game is lost.\n",
        "\n",
        "(Note: This loop will only stop if the player makes a wrong guess 6 times so if you don't want to continue press the square stop button to interrupt the while loop manually)"
      ]
    },
    {
      "cell_type": "code",
      "source": [
        "### Game initialisation\n",
        "answer_word = \"satty\".upper() # \"SATTY\"\n",
        "hidden_word = (\"_ \" * len(answer_word))[:-1] # [:-1] to remove the last trailing whitespace\n",
        "remaining_mistakes = 6\n",
        "\n",
        "### When you start Playing the game\n",
        "while remaining_mistakes > 0:\n",
        "  # print the hidden word\n",
        "  print(f\"Hidden word is: {hidden_word}\")\n",
        "\n",
        "  # When you start playing the game ask for a letter\n",
        "\n",
        "  picked_letter = input(\"Please pick a letter: \").upper() # Keep in mind that this brakes when you enter a number, how can you fix this?\n",
        "\n",
        "  # check if picked letter is in answer_word\n",
        "\n",
        "  if picked_letter in answer_word:\n",
        "    print(f\"CORRECT! The word contains the letter {picked_letter}\")\n",
        "  else:\n",
        "    # update remaining mistakes\n",
        "    remaining_mistakes -= 1\n",
        "    print(f\"WRONG! Number of mistakes left: {remaining_mistakes}\")\n",
        "\n",
        "# Final step of the game\n",
        "print(\"HANGED!!\")"
      ],
      "metadata": {
        "id": "8Jn3jJerKIdr",
        "colab": {
          "base_uri": "https://localhost:8080/"
        },
        "outputId": "068e1ad4-13e0-4735-9c3b-5888e508eb84"
      },
      "id": "8Jn3jJerKIdr",
      "execution_count": null,
      "outputs": [
        {
          "output_type": "stream",
          "name": "stdout",
          "text": [
            "Hidden word is: _ _ _ _ _\n",
            "Please pick a letter: r\n",
            "WRONG! Number of mistakes left: 5\n",
            "Hidden word is: _ _ _ _ _\n",
            "Please pick a letter: y\n",
            "CORRECT! The word contains the letter Y\n",
            "Hidden word is: _ _ _ _ _\n",
            "Please pick a letter: w\n",
            "WRONG! Number of mistakes left: 4\n",
            "Hidden word is: _ _ _ _ _\n",
            "Please pick a letter: a\n",
            "CORRECT! The word contains the letter A\n",
            "Hidden word is: _ _ _ _ _\n",
            "Please pick a letter: l\n",
            "WRONG! Number of mistakes left: 3\n",
            "Hidden word is: _ _ _ _ _\n",
            "Please pick a letter: p\n",
            "WRONG! Number of mistakes left: 2\n",
            "Hidden word is: _ _ _ _ _\n",
            "Please pick a letter: q\n",
            "WRONG! Number of mistakes left: 1\n",
            "Hidden word is: _ _ _ _ _\n",
            "Please pick a letter: e\n",
            "WRONG! Number of mistakes left: 0\n",
            "HANGED!!\n"
          ]
        }
      ]
    },
    {
      "cell_type": "code",
      "source": [],
      "metadata": {
        "colab": {
          "base_uri": "https://localhost:8080/"
        },
        "id": "xfi5QXdICTFx",
        "outputId": "de3a1d0f-007b-4fb2-d0d5-0351ed9fe1b9"
      },
      "id": "xfi5QXdICTFx",
      "execution_count": null,
      "outputs": [
        {
          "output_type": "stream",
          "name": "stdout",
          "text": [
            "_____\n"
          ]
        }
      ]
    },
    {
      "cell_type": "code",
      "source": [
        "\n"
      ],
      "metadata": {
        "colab": {
          "base_uri": "https://localhost:8080/"
        },
        "id": "9K9RH0476w8A",
        "outputId": "29bdec2c-e774-4446-95bd-01bf827ad721"
      },
      "id": "9K9RH0476w8A",
      "execution_count": null,
      "outputs": [
        {
          "name": "stdout",
          "output_type": "stream",
          "text": [
            "Please tell me your answerLissi\n"
          ]
        }
      ]
    },
    {
      "cell_type": "code",
      "source": [
        "answer_word = \"lissi\".upper()\n",
        "hidden_word = (\"_ \" * len(answer_word))[:-1]\n",
        "remaining_mistakes = 6\n",
        "\n",
        "while remaining_mistakes > 0:\n",
        "  print(f\"Hidden word is: {hidden_word}\")\n",
        "\n",
        "\n",
        "  picked_letter = input(\"Please pick a word: \").upper()\n",
        "\n",
        "  if picked_letter in answer_word:\n",
        "    print(f\"CORRECT! The word contains the letter {picked_letter}\")\n",
        "  else:\n",
        "    remaining_mistakes -= 1\n",
        "    print(f\"WRONG! Number of mistakes left: {remaining_mistakes}\")\n",
        "\n",
        "print(\"HANGED!!\")"
      ],
      "metadata": {
        "colab": {
          "base_uri": "https://localhost:8080/"
        },
        "id": "l48n9oNdXATS",
        "outputId": "72531629-143b-4457-cada-9d9d2ed60496"
      },
      "id": "l48n9oNdXATS",
      "execution_count": null,
      "outputs": [
        {
          "output_type": "stream",
          "name": "stdout",
          "text": [
            "Hidden word is: _ _ _ _ _\n",
            "Please pick a word: o\n",
            "WRONG! Number of mistakes left: 5\n",
            "Hidden word is: _ _ _ _ _\n",
            "Please pick a word: a\n",
            "WRONG! Number of mistakes left: 4\n",
            "Hidden word is: _ _ _ _ _\n",
            "Please pick a word: w\n",
            "WRONG! Number of mistakes left: 3\n",
            "Hidden word is: _ _ _ _ _\n",
            "Please pick a word: o\n",
            "WRONG! Number of mistakes left: 2\n",
            "Hidden word is: _ _ _ _ _\n",
            "Please pick a word: t\n",
            "WRONG! Number of mistakes left: 1\n",
            "Hidden word is: _ _ _ _ _\n",
            "Please pick a word: q\n",
            "WRONG! Number of mistakes left: 0\n",
            "HANGED!!\n"
          ]
        }
      ]
    },
    {
      "cell_type": "markdown",
      "source": [
        "#### Hints for Step 2"
      ],
      "metadata": {
        "id": "IUhUBAWGvuIQ"
      },
      "id": "IUhUBAWGvuIQ"
    },
    {
      "cell_type": "markdown",
      "source": [
        "#####Hints for Step 2.6\n"
      ],
      "metadata": {
        "id": "qTXZaXImv4JI"
      },
      "id": "qTXZaXImv4JI"
    },
    {
      "cell_type": "markdown",
      "source": [
        "Your if/else statement should already check if the input letter is a mistake. <br><br>\n",
        "You can use `-=` to decrease a variable incrimentally (eg. if `a=10` and I run `a-=1`, `a` will now equal 9)."
      ],
      "metadata": {
        "id": "1Aw5zWOMwM14"
      },
      "id": "1Aw5zWOMwM14"
    },
    {
      "cell_type": "markdown",
      "id": "0fba1bf6-c7f5-4553-b97e-f8690a93574b",
      "metadata": {
        "id": "0fba1bf6-c7f5-4553-b97e-f8690a93574b"
      },
      "source": [
        "###**Step 3**"
      ]
    },
    {
      "cell_type": "markdown",
      "id": "6ded2788-7c29-42db-8f01-60155bbf4f4f",
      "metadata": {
        "id": "6ded2788-7c29-42db-8f01-60155bbf4f4f"
      },
      "source": [
        "#### Next we want to incorporate a way to update the `hidden_word` to include correctly guessed letters while leaving the rest as underscores. <br>(This is the hardest step so take your time)\n",
        "1. Copy your solution from the last step.<br><br>\n",
        "2. Create a for loop inside the while loop (after the user input) that will iterate over all the letters in `answer_word`.<br><br>\n",
        "3. Use an if statement inside this loop to check each letter in `answer_word` against the `picked_letter` and see if they match. (We will complete this if statement in step 3.6, for now it will show a red underline as you cannot have an empty if statement).<br><br>\n",
        "4. Inside the while loop, but _before_ the for loop, define a variable called `index_count`. We will use this to keep track of which underscore corresponds to the letter being compared inside the for loop. Set it to 0 to start (remember that the first character in a string or item in a list is indexed with the number 0, not 1). <br><br>\n",
        "5. Inside the for loop, after the incomplete if statement, increment the `index_count` by 2 each time it loops. Doing this will allow us to keep track of the underscore corresponding to the letter we are looking at. (For instance, on the third iteration of the for loop we will be looking at the third letter in `answer_word` and `index_count` will store the number 4 (0+2+2). 4 is the index for the third underscore in `hidden_word`)<br><br>\n",
        "5. Now we want to *update* `hidden_word` so that, when the letter guessed is in the `answer_word`, we replace the corresponding underscores in hidden word with the correctly guessed letter (_ _ _ _ -> _ _ E _). Inside the for loop's if statement, whenever we find letters that match, use the `index_count` to slice and then concatonate the `hidden_word` such that it now consist of: the first part of the `hidden_word` + the correctly `picked_letter` + the remaining characters of the `hidden_word` (except the underscore that is being replaced). This should replace an underscore in `hidden_word` with the correct letter wherever the `picked_letter` matches up with a character in `answer_word`. <br><br>\n",
        "7. Add another condition to the while loop that will check if the number of underscores `_` inside the `hidden_word` is different than 0. This will allow us to end the loop when the players wins (right now it only ends when they lose).<br><br>\n",
        "8. Outside the while loop, after the existing `if remaining_mistakes == 0` condition, add an `else` condition and inside of it `print` `'CONGRATULATIONS!'`"
      ]
    },
    {
      "cell_type": "code",
      "execution_count": null,
      "id": "2aa101ec-a9af-47f0-bd8c-e29e9294e2cb",
      "metadata": {
        "id": "2aa101ec-a9af-47f0-bd8c-e29e9294e2cb",
        "colab": {
          "base_uri": "https://localhost:8080/"
        },
        "outputId": "59288491-1b4d-4016-d1ff-1af5255c24b7"
      },
      "outputs": [
        {
          "output_type": "stream",
          "name": "stdout",
          "text": [
            "Hidden word is: _ _ _ _\n",
            "Please pick a letter: e\n",
            "CORRECT! The word contains the letter E\n",
            "Hidden word is: _ E _ _\n",
            "Please pick a letter: w\n",
            "WRONG! Number of mistakes left: 5\n",
            "Hidden word is: _ E _ _\n",
            "Please pick a letter: t\n",
            "CORRECT! The word contains the letter T\n",
            "Hidden word is: T E _ T\n",
            "Please pick a letter: v\n",
            "WRONG! Number of mistakes left: 4\n",
            "Hidden word is: T E _ T\n",
            "Please pick a letter: a\n",
            "WRONG! Number of mistakes left: 3\n",
            "Hidden word is: T E _ T\n",
            "Please pick a letter: m\n",
            "WRONG! Number of mistakes left: 2\n",
            "Hidden word is: T E _ T\n",
            "Please pick a letter: n\n",
            "WRONG! Number of mistakes left: 1\n",
            "Hidden word is: T E _ T\n",
            "Please pick a letter: p\n",
            "HANGED!!\n"
          ]
        }
      ],
      "source": [
        "### Game initialisation\n",
        "answer_word = \"satty\".upper() # \"SATTY\"\n",
        "hidden_word = (\"_ \" * len(answer_word))[:-1] # [:-1] to remove the last trailing whitespace\n",
        "remaining_mistakes = 6\n",
        "\n",
        "### When you start Playing the game\n",
        "while remaining_mistakes > 0:\n",
        "  # print the hidden word\n",
        "  print(f\"Hidden word is: {hidden_word}\")\n",
        "\n",
        "  # When you start playing the game ask for a letter\n",
        "  picked_letter = input(\"Please pick a letter: \").upper() # Keep in mind that this brakes when you enter a number, how can you fix this?\n",
        "\n",
        "  # check if picked letter is in answer_word\n",
        "  if picked_letter in answer_word:\n",
        "\n",
        "    # update hidden word\n",
        "    index_count = 0\n",
        "    for answer_character in answer_word:\n",
        "      if answer_character == picked_letter:\n",
        "        # use the index_count to slice and then concatonate the hidden_word\n",
        "        hidden_word = hidden_word[:index_count] + picked_letter + hidden_word[index_count+1:]\n",
        "      index_count += 2\n",
        "\n",
        "    # check if word is guessed\n",
        "    if hidden_word.count(\"_\") <= 0:\n",
        "      print(\"CONGRATULATIONS!\")\n",
        "      break\n",
        "    else:\n",
        "      print(f\"CORRECT! The word contains the letter {picked_letter}\")\n",
        "\n",
        "  else: # guessed letter in not in answer_word\n",
        "    # update remaining mistakes\n",
        "    remaining_mistakes -= 1\n",
        "\n",
        "    # check if player still has remaining mistakes\n",
        "    if remaining_mistakes <= 0:\n",
        "      # Game finalisation\n",
        "      print(\"HANGED!!\")\n",
        "    else:\n",
        "      print(f\"WRONG! Number of mistakes left: {remaining_mistakes}\")"
      ]
    },
    {
      "cell_type": "code",
      "source": [
        "# you can experiment with smaller chunks of code here"
      ],
      "metadata": {
        "id": "DSmd1FlKg-bO"
      },
      "id": "DSmd1FlKg-bO",
      "execution_count": null,
      "outputs": []
    },
    {
      "cell_type": "markdown",
      "source": [
        "####Hints for Step 3"
      ],
      "metadata": {
        "id": "VFiEh8-D0kCU"
      },
      "id": "VFiEh8-D0kCU"
    },
    {
      "cell_type": "markdown",
      "source": [
        "#####Hint for Step 3.2"
      ],
      "metadata": {
        "id": "p76xm9wv0p-t"
      },
      "id": "p76xm9wv0p-t"
    },
    {
      "cell_type": "markdown",
      "source": [
        "Python has built in the ability to loop through characters in a string. `for letter in word:` will repeat the loop for each character in the `word` variable and store the character in a new variable called `letter`."
      ],
      "metadata": {
        "id": "YXu8_yRS1kCf"
      },
      "id": "YXu8_yRS1kCf"
    },
    {
      "cell_type": "markdown",
      "source": [
        "#####Hint for Step 3.3"
      ],
      "metadata": {
        "id": "xQbC1O-9bsOG"
      },
      "id": "xQbC1O-9bsOG"
    },
    {
      "cell_type": "markdown",
      "source": [
        "You can check if two values or strings are identical by using `==` in an `if` conditional (eg. `if a==b:` will return True if `a` and `b` are identical)."
      ],
      "metadata": {
        "id": "NhmbdmAybtfT"
      },
      "id": "NhmbdmAybtfT"
    },
    {
      "cell_type": "markdown",
      "source": [
        "#####Hint for Step 3.4"
      ],
      "metadata": {
        "id": "s_G09YPgc3oR"
      },
      "id": "s_G09YPgc3oR"
    },
    {
      "cell_type": "markdown",
      "source": [
        "You can use `+=` to increase a variable incrimentally (eg. if `a=10` and I run `a+=1`, `a` will now equal `11`)"
      ],
      "metadata": {
        "id": "GGXdQw6Cc6Ex"
      },
      "id": "GGXdQw6Cc6Ex"
    },
    {
      "cell_type": "markdown",
      "source": [
        "##### Hints for Step 3.6"
      ],
      "metadata": {
        "id": "5gUPZXoz4zoz"
      },
      "id": "5gUPZXoz4zoz"
    },
    {
      "cell_type": "markdown",
      "source": [
        "To update a variable, we must reassign it a new value.<br><br>\n",
        "You know the letters match whenever your if statement inside the for loop returns True. <br><br>\n",
        "You can slice strings at any given index: you can get the first four letters of a string with `string[:4]`. Or you could get all the letters after the 5th with `string[5:]`. For instance, `'python'[2:]` will return `'thon'` (don't forget that indexes start at 0!)<br><br>\n",
        "We can concatonate strings by simply adding them together (eg. `'py' + 'thon'` will return `'python'`.)<br><br>\n",
        "During the first iteration of the for loop, the `index_count` variable will equal 0, then 2, then 4 and so on. Since the `hidden_word` has spaces between each underscore, these numbers will correspond to the indexes of each underscore in the `hidden_word` (ie. `hidden_word[4]` will return `'_'`.)"
      ],
      "metadata": {
        "id": "Eb0rwP0-99kl"
      },
      "id": "Eb0rwP0-99kl"
    },
    {
      "cell_type": "markdown",
      "source": [
        "##### Hints for Step 3.7"
      ],
      "metadata": {
        "id": "900L794M_KUv"
      },
      "id": "900L794M_KUv"
    },
    {
      "cell_type": "markdown",
      "source": [
        "You can use `and` to make it required that two conditions be met in order to return True. (eg. `a>1 and b<3:`).<br><br>\n",
        "You can use `!=` to check if two values are _not_ equal.<br><br>\n",
        "You can count how many times a letter appears in a string with `'string'.count('letter')`."
      ],
      "metadata": {
        "id": "cj6QOkE__NI2"
      },
      "id": "cj6QOkE__NI2"
    },
    {
      "cell_type": "markdown",
      "id": "ed1ce9a2-5f9c-48a0-8dae-be9db38c092a",
      "metadata": {
        "id": "ed1ce9a2-5f9c-48a0-8dae-be9db38c092a"
      },
      "source": [
        "### **Step 4**"
      ]
    },
    {
      "cell_type": "markdown",
      "id": "b4f4989a-a4fd-4a2b-8700-310cbc4cdf33",
      "metadata": {
        "id": "b4f4989a-a4fd-4a2b-8700-310cbc4cdf33"
      },
      "source": [
        "### Finally we want to incorporate the image, adding limbs for each incorrect guess.\n",
        "1. Copy your code from the last step<br><br>\n",
        "2. You are given a dictionary that contains an 'image' of a hanged figure. Each item in the dictionary has a different number of figure elements. Try to implement it in your solution so that the correct figure is printed out every time a mistake is made. <br><br>\n",
        "3. Try printing some symbols that divide the steps in the printout so it looks nicer. For example, printing ============================================== creates a nice divider between each new drawing. <br><br>\n",
        "4. Instead of defining one `answer_word`, create a list of different words that the computer will randomly select from when the game starts. You are going to need to import the random module to do this (https://docs.python.org/3/library/random.html)<br><br>\n",
        "5. Add a print statement at the very bottom of your code that prints the correct answer whether the player wins or loses."
      ]
    },
    {
      "cell_type": "code",
      "execution_count": null,
      "id": "19adbda2-6677-4013-86d2-14f75ad289fe",
      "metadata": {
        "tags": [],
        "id": "19adbda2-6677-4013-86d2-14f75ad289fe"
      },
      "outputs": [],
      "source": [
        "# Make sure to run this cell or you won't be able to use this dictionary!\n",
        "\n",
        "hangman={0:'''\n",
        "        ____________\n",
        "         |\n",
        "\n",
        "\n",
        "\n",
        "         ''',\n",
        "        1:'''\n",
        "        ____________\n",
        "         |\n",
        "         O\n",
        "\n",
        "\n",
        "         ''',\n",
        "        2:'''\n",
        "        ____________\n",
        "         |\n",
        "         O\n",
        "        /\n",
        "\n",
        "        ''',\n",
        "        3:'''\n",
        "        ____________\n",
        "         |\n",
        "         O\n",
        "        / \\\\\n",
        "\n",
        "        ''',\n",
        "        4:'''\n",
        "        ____________\n",
        "         |\n",
        "         O\n",
        "        / \\\\\n",
        "         |\n",
        "         ''',\n",
        "        5:'''\n",
        "        ____________\n",
        "         |\n",
        "         O\n",
        "        / \\\\\n",
        "         |\n",
        "        /''',\n",
        "        6:'''\n",
        "        ____________\n",
        "         |\n",
        "         O\n",
        "        / \\\\\n",
        "         |\n",
        "        / \\\\ '''}"
      ]
    },
    {
      "cell_type": "code",
      "source": [
        "import random # imports the random module\n",
        "\n",
        "### Game initialisation\n",
        "answer_word = random.choice([\"test\", \"bootcamp\", \"secret\", \"python\"]).upper() # \"TEST\"\n",
        "hidden_word = (\"_ \" * len(answer_word))[:-1] # [:-1] to remove the last trailing whitespace\n",
        "remaining_mistakes = 6\n",
        "max_mistakes = remaining_mistakes\n",
        "\n",
        "### Playing the game\n",
        "while remaining_mistakes > 0:\n",
        "  # print deviding line\n",
        "  print(\"=\"*50)\n",
        "\n",
        "  # printing our stick for Hangman sketch\n",
        "  print(hangman[max_mistakes - remaining_mistakes])\n",
        "\n",
        "  # print the hidden word\n",
        "  print(f\"Hidden word is: {hidden_word}\")\n",
        "\n",
        "  # When you start playing the game ask for a letter\n",
        "  picked_letter = input(\"Please pick a letter: \").upper() # Keep in mind that this brakes when you enter a number, how can you fix this?\n",
        "\n",
        "  # check if picked letter is in answer_word\n",
        "  if picked_letter in answer_word:\n",
        "\n",
        "    # update hidden word\n",
        "    index_count = 0\n",
        "    for answer_character in answer_word:\n",
        "      if answer_character == picked_letter:\n",
        "        # use the index_count to slice and then concatonate the hidden_word\n",
        "        hidden_word = hidden_word[:index_count] + picked_letter + hidden_word[index_count+1:]\n",
        "      index_count += 2\n",
        "\n",
        "    # check if word is guessed right or wrong\n",
        "    if hidden_word.count(\"_\") <= 0:\n",
        "      print(f\"CONGRATULATIONS! You guessed the word {answer_word} correctly\")\n",
        "      break\n",
        "    else:\n",
        "      print(f\"CORRECT! The word contains the letter {picked_letter}\")\n",
        "\n",
        "  else: # guessed letter in not in answer_word\n",
        "    # update remaining mistakes\n",
        "    remaining_mistakes -= 1\n",
        "\n",
        "    # check if player still has remaining chance to make mistakes\n",
        "    if remaining_mistakes <= 0:\n",
        "      ### Final step of the Game\n",
        "      # print deviding line\n",
        "      print(\"=\"*50)\n",
        "\n",
        "      # printing our stick for the Hangman sketch\n",
        "      print(hangman[max_mistakes - remaining_mistakes])\n",
        "      print(f\"HANGED!! The answer word was {answer_word}\")\n",
        "    else:\n",
        "      print(f\"WRONG! Number of mistakes left: {remaining_mistakes}\")\n"
      ],
      "metadata": {
        "colab": {
          "base_uri": "https://localhost:8080/"
        },
        "id": "EokYAkh6WZfP",
        "outputId": "2497da46-cb69-4253-f9d5-3c88bd733c23"
      },
      "id": "EokYAkh6WZfP",
      "execution_count": null,
      "outputs": [
        {
          "output_type": "stream",
          "name": "stdout",
          "text": [
            "==================================================\n",
            "\n",
            "        ____________\n",
            "         |\n",
            "\n",
            "\n",
            "\n",
            "         \n",
            "Hidden word is: _ _ _ _ _ _\n",
            "Please pick a letter: e\n",
            "WRONG! Number of mistakes left: 5\n",
            "==================================================\n",
            "\n",
            "        ____________\n",
            "         |\n",
            "         O\n",
            "\n",
            "\n",
            "         \n",
            "Hidden word is: _ _ _ _ _ _\n",
            "Please pick a letter: u\n",
            "WRONG! Number of mistakes left: 4\n",
            "==================================================\n",
            "\n",
            "        ____________\n",
            "         |\n",
            "         O\n",
            "        /\n",
            "\n",
            "        \n",
            "Hidden word is: _ _ _ _ _ _\n",
            "Please pick a letter: a\n",
            "WRONG! Number of mistakes left: 3\n",
            "==================================================\n",
            "\n",
            "        ____________\n",
            "         |\n",
            "         O\n",
            "        / \\\n",
            "\n",
            "        \n",
            "Hidden word is: _ _ _ _ _ _\n",
            "Please pick a letter: v\n",
            "WRONG! Number of mistakes left: 2\n",
            "==================================================\n",
            "\n",
            "        ____________\n",
            "         |\n",
            "         O\n",
            "        / \\\n",
            "         |\n",
            "         \n",
            "Hidden word is: _ _ _ _ _ _\n",
            "Please pick a letter: j\n",
            "WRONG! Number of mistakes left: 1\n",
            "==================================================\n",
            "\n",
            "        ____________\n",
            "         |\n",
            "         O\n",
            "        / \\\n",
            "         |\n",
            "        /\n",
            "Hidden word is: _ _ _ _ _ _\n",
            "Please pick a letter: g\n",
            "==================================================\n",
            "\n",
            "        ____________\n",
            "         |\n",
            "         O\n",
            "        / \\\n",
            "         |\n",
            "        / \\ \n",
            "HANGED!! The answer word was PYTHON\n"
          ]
        }
      ]
    },
    {
      "cell_type": "markdown",
      "source": [
        "#### Hints for Step 4"
      ],
      "metadata": {
        "id": "qpfLllutBw0w"
      },
      "id": "qpfLllutBw0w"
    },
    {
      "cell_type": "markdown",
      "source": [
        "##### Hints for Step 4.2"
      ],
      "metadata": {
        "id": "IwRxecXbBzSz"
      },
      "id": "IwRxecXbBzSz"
    },
    {
      "cell_type": "markdown",
      "source": [
        "You can access an item in a dictionary using its key. If `dict = {key:value}` then `dict[key]` will return `value`. <br><br>\n",
        "They keys in the hangman dictionary are equal to the number of mistakes that should result in their corresponding image (ie. `hangman[6]` returns the drawing the player should see after making 6 mistakes."
      ],
      "metadata": {
        "id": "l7VOpuGkCJWJ"
      },
      "id": "l7VOpuGkCJWJ"
    },
    {
      "cell_type": "markdown",
      "source": [
        "##### Hints for Step 4.4"
      ],
      "metadata": {
        "id": "NJIsyVmmiiiz"
      },
      "id": "NJIsyVmmiiiz"
    },
    {
      "cell_type": "markdown",
      "source": [
        "You can import the random module using `import random`. <br><br>\n",
        "You can use `random.choice()` to randomly select an item from a list."
      ],
      "metadata": {
        "id": "WEWgIVVeioup"
      },
      "id": "WEWgIVVeioup"
    },
    {
      "cell_type": "markdown",
      "source": [
        "###Congratulations! You've created a playable game with python!"
      ],
      "metadata": {
        "id": "TGpUGy66Jp7Z"
      },
      "id": "TGpUGy66Jp7Z"
    },
    {
      "cell_type": "markdown",
      "source": [
        "### **Extra BONUS steps**"
      ],
      "metadata": {
        "id": "koF9QvUk7vcT"
      },
      "id": "koF9QvUk7vcT"
    },
    {
      "cell_type": "markdown",
      "source": [
        "### Once you are done with all the steps, you can add some advanced features to your game.\n",
        "Some examples:\n",
        "- Add code to accomodate phrases with multiple words (the player should automatically see the gap between words when displaying the `hidden_word` as soon as the game starts).\n",
        "- Add difficulty levels that the user can choose which determine the complexity of the secret word.\n",
        "- Add code that checks users' inputs to make sure they are allowed (i.e. no digits or special characters allowed, no more than one letter allowed, etc.) and returns an error message (without counting the input as a mistake) if the input does not comply.\n",
        "- Allow the player to try to guess the whole word at once, and only have them win when they guess the whole word correctly (traditionally this is how the game is played).\n",
        "\n",
        "Feel free to create any number of special features you like and you can think of!"
      ],
      "metadata": {
        "id": "0YhZVS2a7y7c"
      },
      "id": "0YhZVS2a7y7c"
    }
  ],
  "metadata": {
    "kernelspec": {
      "display_name": "Python 3 (ipykernel)",
      "language": "python",
      "name": "python3"
    },
    "language_info": {
      "codemirror_mode": {
        "name": "ipython",
        "version": 3
      },
      "file_extension": ".py",
      "mimetype": "text/x-python",
      "name": "python",
      "nbconvert_exporter": "python",
      "pygments_lexer": "ipython3",
      "version": "3.9.12"
    },
    "colab": {
      "provenance": [],
      "collapsed_sections": [
        "5gUPZXoz4zoz",
        "900L794M_KUv",
        "qpfLllutBw0w",
        "IwRxecXbBzSz",
        "NJIsyVmmiiiz"
      ],
      "include_colab_link": true
    }
  },
  "nbformat": 4,
  "nbformat_minor": 5
}